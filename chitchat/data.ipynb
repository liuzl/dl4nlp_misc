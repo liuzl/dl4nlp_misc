{
 "cells": [
  {
   "cell_type": "code",
   "execution_count": 1,
   "metadata": {},
   "outputs": [],
   "source": [
    "import pandas as pd"
   ]
  },
  {
   "cell_type": "code",
   "execution_count": 15,
   "metadata": {},
   "outputs": [],
   "source": [
    "df = pd.read_csv('chat.corpus.gz', header=None, dtype=str, sep='\\t', na_filter=False)"
   ]
  },
  {
   "cell_type": "code",
   "execution_count": 18,
   "metadata": {},
   "outputs": [],
   "source": [
    "df['q'] = df.apply(lambda x: ' '.join(list(x[0])), axis=1)"
   ]
  },
  {
   "cell_type": "code",
   "execution_count": 19,
   "metadata": {},
   "outputs": [],
   "source": [
    "df['a'] = df.apply(lambda x: ' '.join(list(x[1].split('||||')[0])), axis=1)"
   ]
  },
  {
   "cell_type": "code",
   "execution_count": 20,
   "metadata": {},
   "outputs": [
    {
     "data": {
      "text/html": [
       "<div>\n",
       "<style scoped>\n",
       "    .dataframe tbody tr th:only-of-type {\n",
       "        vertical-align: middle;\n",
       "    }\n",
       "\n",
       "    .dataframe tbody tr th {\n",
       "        vertical-align: top;\n",
       "    }\n",
       "\n",
       "    .dataframe thead th {\n",
       "        text-align: right;\n",
       "    }\n",
       "</style>\n",
       "<table border=\"1\" class=\"dataframe\">\n",
       "  <thead>\n",
       "    <tr style=\"text-align: right;\">\n",
       "      <th></th>\n",
       "      <th>0</th>\n",
       "      <th>1</th>\n",
       "      <th>q</th>\n",
       "      <th>a</th>\n",
       "    </tr>\n",
       "  </thead>\n",
       "  <tbody>\n",
       "    <tr>\n",
       "      <th>0</th>\n",
       "      <td>a片</td>\n",
       "      <td>主人，这个对身心健康无益呀。</td>\n",
       "      <td>a 片</td>\n",
       "      <td>主 人 ， 这 个 对 身 心 健 康 无 益 呀 。</td>\n",
       "    </tr>\n",
       "    <tr>\n",
       "      <th>1</th>\n",
       "      <td>说的什么话</td>\n",
       "      <td>你懂就行。</td>\n",
       "      <td>说 的 什 么 话</td>\n",
       "      <td>你 懂 就 行 。</td>\n",
       "    </tr>\n",
       "    <tr>\n",
       "      <th>2</th>\n",
       "      <td>就这些吧</td>\n",
       "      <td>已经够了哈。</td>\n",
       "      <td>就 这 些 吧</td>\n",
       "      <td>已 经 够 了 哈 。</td>\n",
       "    </tr>\n",
       "    <tr>\n",
       "      <th>3</th>\n",
       "      <td>这么自恋</td>\n",
       "      <td>嘻嘻，一般一般啦。</td>\n",
       "      <td>这 么 自 恋</td>\n",
       "      <td>嘻 嘻 ， 一 般 一 般 啦 。</td>\n",
       "    </tr>\n",
       "    <tr>\n",
       "      <th>4</th>\n",
       "      <td>不开心也是一天</td>\n",
       "      <td>那何必不开心过一天呢。</td>\n",
       "      <td>不 开 心 也 是 一 天</td>\n",
       "      <td>那 何 必 不 开 心 过 一 天 呢 。</td>\n",
       "    </tr>\n",
       "  </tbody>\n",
       "</table>\n",
       "</div>"
      ],
      "text/plain": [
       "         0               1              q                            a\n",
       "0       a片  主人，这个对身心健康无益呀。            a 片  主 人 ， 这 个 对 身 心 健 康 无 益 呀 。\n",
       "1    说的什么话           你懂就行。      说 的 什 么 话                    你 懂 就 行 。\n",
       "2     就这些吧          已经够了哈。        就 这 些 吧                  已 经 够 了 哈 。\n",
       "3     这么自恋       嘻嘻，一般一般啦。        这 么 自 恋            嘻 嘻 ， 一 般 一 般 啦 。\n",
       "4  不开心也是一天     那何必不开心过一天呢。  不 开 心 也 是 一 天        那 何 必 不 开 心 过 一 天 呢 。"
      ]
     },
     "execution_count": 20,
     "metadata": {},
     "output_type": "execute_result"
    }
   ],
   "source": [
    "df.head()"
   ]
  },
  {
   "cell_type": "code",
   "execution_count": 21,
   "metadata": {},
   "outputs": [],
   "source": [
    "df = df.sample(frac=1).reset_index(drop=True)"
   ]
  },
  {
   "cell_type": "code",
   "execution_count": 22,
   "metadata": {},
   "outputs": [],
   "source": [
    "df.to_csv(\"chat.txt\", sep='\\t', header=None, index=None, columns=['q','a'])"
   ]
  },
  {
   "cell_type": "code",
   "execution_count": 23,
   "metadata": {},
   "outputs": [],
   "source": [
    "df.head(100000).to_csv(\"data/train/data.txt\", sep='\\t', header=None, index=None, columns=['q','a'])\n",
    "df.head(110000).tail(10000).to_csv(\"data/dev/data.txt\", sep='\\t', header=None, index=None, columns=['q','a'])"
   ]
  },
  {
   "cell_type": "code",
   "execution_count": null,
   "metadata": {},
   "outputs": [],
   "source": []
  }
 ],
 "metadata": {
  "kernelspec": {
   "display_name": "Python 3",
   "language": "python",
   "name": "python3"
  },
  "language_info": {
   "codemirror_mode": {
    "name": "ipython",
    "version": 3
   },
   "file_extension": ".py",
   "mimetype": "text/x-python",
   "name": "python",
   "nbconvert_exporter": "python",
   "pygments_lexer": "ipython3",
   "version": "3.7.1"
  }
 },
 "nbformat": 4,
 "nbformat_minor": 2
}
