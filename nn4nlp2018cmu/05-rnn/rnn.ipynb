{
 "cells": [
  {
   "cell_type": "code",
   "execution_count": 4,
   "metadata": {},
   "outputs": [],
   "source": [
    "from collections import defaultdict\n",
    "import time\n",
    "import random\n",
    "import dynet as dy\n",
    "import numpy as np\n",
    "\n",
    "# Functions to read in the corpus\n",
    "w2i = defaultdict(lambda: len(w2i))\n",
    "t2i = defaultdict(lambda: len(t2i))\n",
    "UNK = w2i[\"<unk>\"]"
   ]
  },
  {
   "cell_type": "code",
   "execution_count": 5,
   "metadata": {},
   "outputs": [],
   "source": [
    "def read_dataset(filename):\n",
    "    with open(filename, \"r\") as f:\n",
    "        for line in f:\n",
    "            tag, words = line.lower().strip().split(\" ||| \")\n",
    "            yield ([w2i[x] for x in words.split(\" \")], t2i[tag])"
   ]
  },
  {
   "cell_type": "code",
   "execution_count": 6,
   "metadata": {},
   "outputs": [],
   "source": [
    "# Read in the data\n",
    "train = list(read_dataset(\"../data/classes/train.txt\"))\n",
    "w2i = defaultdict(lambda: UNK, w2i)\n",
    "dev = list(read_dataset(\"../data/classes/test.txt\"))\n",
    "nwords = len(w2i)\n",
    "ntags = len(t2i)"
   ]
  },
  {
   "cell_type": "code",
   "execution_count": 13,
   "metadata": {},
   "outputs": [],
   "source": [
    "# Start DyNet and defin trainer\n",
    "model = dy.Model()\n",
    "trainer = dy.AdamTrainer(model)\n",
    "\n",
    "# Define the model\n",
    "EMB_SIZE = 64\n",
    "HID_SIZE = 64\n",
    "W_emb = model.add_lookup_parameters((nwords, EMB_SIZE))  # Word embeddings\n",
    "#fwdLSTM = dy.SimpleRNNBuilder(1, EMB_SIZE, HID_SIZE, model)  # Forward LSTM\n",
    "#bwdLSTM = dy.SimpleRNNBuilder(1, EMB_SIZE, HID_SIZE, model)  # Backward LSTM\n",
    "fwdLSTM = dy.VanillaLSTMBuilder(1, EMB_SIZE, HID_SIZE, model)\n",
    "bwdLSTM = dy.VanillaLSTMBuilder(1, EMB_SIZE, HID_SIZE, model)\n",
    "W_sm = model.add_parameters((ntags, 2 * HID_SIZE))  # Softmax weights\n",
    "b_sm = model.add_parameters((ntags))  # Softmax bias"
   ]
  },
  {
   "cell_type": "code",
   "execution_count": 14,
   "metadata": {},
   "outputs": [],
   "source": [
    "# A function to calculate scores for one value\n",
    "def calc_scores(words):\n",
    "    dy.renew_cg()\n",
    "    word_embs = [dy.lookup(W_emb, x) for x in words]\n",
    "    fwd_init = fwdLSTM.initial_state()\n",
    "    fwd_embs = fwd_init.transduce(word_embs)\n",
    "    bwd_init = bwdLSTM.initial_state()\n",
    "    bwd_embs = bwd_init.transduce(reversed(word_embs))\n",
    "    return W_sm * dy.concatenate([fwd_embs[-1], bwd_embs[-1]]) + b_sm\n"
   ]
  },
  {
   "cell_type": "code",
   "execution_count": 15,
   "metadata": {},
   "outputs": [
    {
     "name": "stdout",
     "output_type": "stream",
     "text": [
      "iter 0: train loss/sent=1.4733, time=14.80s\n",
      "iter 0: test acc=0.4131\n",
      "iter 1: train loss/sent=1.1887, time=14.87s\n",
      "iter 1: test acc=0.4081\n",
      "iter 2: train loss/sent=0.9459, time=14.80s\n",
      "iter 2: test acc=0.4045\n",
      "iter 3: train loss/sent=0.6957, time=14.36s\n",
      "iter 3: test acc=0.4127\n",
      "iter 4: train loss/sent=0.4526, time=14.35s\n",
      "iter 4: test acc=0.3937\n",
      "iter 5: train loss/sent=0.2678, time=15.47s\n",
      "iter 5: test acc=0.4041\n",
      "iter 6: train loss/sent=0.1552, time=15.31s\n",
      "iter 6: test acc=0.4041\n",
      "iter 7: train loss/sent=0.0975, time=15.52s\n",
      "iter 7: test acc=0.3792\n",
      "iter 8: train loss/sent=0.0583, time=14.89s\n",
      "iter 8: test acc=0.3674\n",
      "iter 9: train loss/sent=0.0359, time=15.15s\n",
      "iter 9: test acc=0.3765\n",
      "iter 10: train loss/sent=0.0250, time=14.71s\n",
      "iter 10: test acc=0.3729\n",
      "iter 11: train loss/sent=0.0162, time=15.17s\n",
      "iter 11: test acc=0.3810\n",
      "iter 12: train loss/sent=0.0120, time=15.82s\n",
      "iter 12: test acc=0.3805\n",
      "iter 13: train loss/sent=0.0132, time=15.88s\n",
      "iter 13: test acc=0.3715\n",
      "iter 14: train loss/sent=0.0120, time=16.20s\n",
      "iter 14: test acc=0.3729\n",
      "iter 15: train loss/sent=0.0097, time=17.32s\n",
      "iter 15: test acc=0.3928\n",
      "iter 16: train loss/sent=0.0099, time=17.52s\n",
      "iter 16: test acc=0.3928\n",
      "iter 17: train loss/sent=0.0085, time=17.93s\n",
      "iter 17: test acc=0.3896\n",
      "iter 18: train loss/sent=0.0067, time=17.34s\n",
      "iter 18: test acc=0.3819\n",
      "iter 19: train loss/sent=0.0029, time=18.53s\n",
      "iter 19: test acc=0.3905\n",
      "iter 20: train loss/sent=0.0043, time=17.93s\n",
      "iter 20: test acc=0.3910\n",
      "iter 21: train loss/sent=0.0057, time=18.24s\n",
      "iter 21: test acc=0.3968\n",
      "iter 22: train loss/sent=0.0045, time=18.81s\n",
      "iter 22: test acc=0.3751\n"
     ]
    },
    {
     "ename": "KeyboardInterrupt",
     "evalue": "",
     "output_type": "error",
     "traceback": [
      "\u001b[0;31m---------------------------------------------------------------------------\u001b[0m",
      "\u001b[0;31mKeyboardInterrupt\u001b[0m                         Traceback (most recent call last)",
      "\u001b[0;32m<ipython-input-15-ebed166e335c>\u001b[0m in \u001b[0;36m<module>\u001b[0;34m()\u001b[0m\n\u001b[1;32m      7\u001b[0m         \u001b[0mmy_loss\u001b[0m \u001b[0;34m=\u001b[0m \u001b[0mdy\u001b[0m\u001b[0;34m.\u001b[0m\u001b[0mpickneglogsoftmax\u001b[0m\u001b[0;34m(\u001b[0m\u001b[0mcalc_scores\u001b[0m\u001b[0;34m(\u001b[0m\u001b[0mwords\u001b[0m\u001b[0;34m)\u001b[0m\u001b[0;34m,\u001b[0m \u001b[0mtag\u001b[0m\u001b[0;34m)\u001b[0m\u001b[0;34m\u001b[0m\u001b[0m\n\u001b[1;32m      8\u001b[0m         \u001b[0mtrain_loss\u001b[0m \u001b[0;34m+=\u001b[0m \u001b[0mmy_loss\u001b[0m\u001b[0;34m.\u001b[0m\u001b[0mvalue\u001b[0m\u001b[0;34m(\u001b[0m\u001b[0;34m)\u001b[0m\u001b[0;34m\u001b[0m\u001b[0m\n\u001b[0;32m----> 9\u001b[0;31m         \u001b[0mmy_loss\u001b[0m\u001b[0;34m.\u001b[0m\u001b[0mbackward\u001b[0m\u001b[0;34m(\u001b[0m\u001b[0;34m)\u001b[0m\u001b[0;34m\u001b[0m\u001b[0m\n\u001b[0m\u001b[1;32m     10\u001b[0m         \u001b[0mtrainer\u001b[0m\u001b[0;34m.\u001b[0m\u001b[0mupdate\u001b[0m\u001b[0;34m(\u001b[0m\u001b[0;34m)\u001b[0m\u001b[0;34m\u001b[0m\u001b[0m\n\u001b[1;32m     11\u001b[0m     \u001b[0mprint\u001b[0m\u001b[0;34m(\u001b[0m\u001b[0;34m\"iter %r: train loss/sent=%.4f, time=%.2fs\"\u001b[0m \u001b[0;34m%\u001b[0m \u001b[0;34m(\u001b[0m\u001b[0mITER\u001b[0m\u001b[0;34m,\u001b[0m \u001b[0mtrain_loss\u001b[0m \u001b[0;34m/\u001b[0m \u001b[0mlen\u001b[0m\u001b[0;34m(\u001b[0m\u001b[0mtrain\u001b[0m\u001b[0;34m)\u001b[0m\u001b[0;34m,\u001b[0m \u001b[0mtime\u001b[0m\u001b[0;34m.\u001b[0m\u001b[0mtime\u001b[0m\u001b[0;34m(\u001b[0m\u001b[0;34m)\u001b[0m \u001b[0;34m-\u001b[0m \u001b[0mstart\u001b[0m\u001b[0;34m)\u001b[0m\u001b[0;34m)\u001b[0m\u001b[0;34m\u001b[0m\u001b[0m\n",
      "\u001b[0;31mKeyboardInterrupt\u001b[0m: "
     ]
    }
   ],
   "source": [
    "for ITER in range(50):\n",
    "    # Perform training\n",
    "    random.shuffle(train)\n",
    "    train_loss = 0.0\n",
    "    start = time.time()\n",
    "    for words, tag in train:\n",
    "        my_loss = dy.pickneglogsoftmax(calc_scores(words), tag)\n",
    "        train_loss += my_loss.value()\n",
    "        my_loss.backward()\n",
    "        trainer.update()\n",
    "    print(\"iter %r: train loss/sent=%.4f, time=%.2fs\" % (ITER, train_loss / len(train), time.time() - start))\n",
    "    # Perform training\n",
    "    test_correct = 0.0\n",
    "    for words, tag in dev:\n",
    "        scores = calc_scores(words).npvalue()\n",
    "        predict = np.argmax(scores)\n",
    "        if predict == tag:\n",
    "            test_correct += 1\n",
    "    print(\"iter %r: test acc=%.4f\" % (ITER, test_correct / len(dev)))"
   ]
  },
  {
   "cell_type": "code",
   "execution_count": null,
   "metadata": {},
   "outputs": [],
   "source": []
  }
 ],
 "metadata": {
  "kernelspec": {
   "display_name": "Python 3",
   "language": "python",
   "name": "python3"
  },
  "language_info": {
   "codemirror_mode": {
    "name": "ipython",
    "version": 3
   },
   "file_extension": ".py",
   "mimetype": "text/x-python",
   "name": "python",
   "nbconvert_exporter": "python",
   "pygments_lexer": "ipython3",
   "version": "3.6.5"
  }
 },
 "nbformat": 4,
 "nbformat_minor": 2
}
