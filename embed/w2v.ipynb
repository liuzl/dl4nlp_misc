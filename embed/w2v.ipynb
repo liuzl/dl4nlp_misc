{
 "cells": [
  {
   "cell_type": "markdown",
   "metadata": {},
   "source": [
    "# 使用gensim来体验word2vec \n",
    "\n",
    "[docs](https://radimrehurek.com/gensim/auto_examples/)"
   ]
  },
  {
   "cell_type": "code",
   "execution_count": 2,
   "metadata": {},
   "outputs": [],
   "source": [
    "import gensim.downloader as api\n",
    "# wv = api.load('word2vec-google-news-300') #1662.8MB"
   ]
  },
  {
   "cell_type": "markdown",
   "metadata": {},
   "source": [
    "## 训练自己的模型\n",
    "\n",
    "使用政府工作报告和五年规划的语料做训练\n",
    "\n",
    "### 获取语料"
   ]
  },
  {
   "cell_type": "code",
   "execution_count": 38,
   "metadata": {},
   "outputs": [],
   "source": [
    "import os\n",
    "import requests\n",
    "import hashlib\n",
    "\n",
    "def cache_dir():\n",
    "    work_dir = \"./.cache\"\n",
    "    if not os.path.isdir(work_dir):\n",
    "        os.makedirs(work_dir)\n",
    "    return work_dir\n",
    "\n",
    "def data_dir():\n",
    "    datadir = \"./data\"\n",
    "    if not os.path.isdir(datadir):\n",
    "        os.makedirs(datadir)\n",
    "    return datadir\n",
    "\n",
    "def get(url, cache=True, force=False):\n",
    "    md5 = hashlib.md5(url.encode('utf-8')).hexdigest()\n",
    "    f = \"%s/%s\" % (cache_dir(), md5)\n",
    "    if cache and not force and os.path.isfile(f):\n",
    "        return open(f, \"rb\").read()\n",
    "    content = requests.get(url).content\n",
    "    if cache:\n",
    "        open(f,\"wb\").write(content)\n",
    "    return content"
   ]
  },
  {
   "cell_type": "code",
   "execution_count": 28,
   "metadata": {},
   "outputs": [],
   "source": [
    "import lxml\n",
    "import lxml.html\n",
    "def crawl_report_list():\n",
    "    '''\n",
    "    抓取政府工作报告列表\n",
    "    http://www.gov.cn/guoqing/2006-02/16/content_2616810.htm\n",
    "    '''\n",
    "    content = get(\"http://www.gov.cn/guoqing/2006-02/16/content_2616810.htm\")\n",
    "    if content is None: return []\n",
    "    doc = lxml.html.document_fromstring(content)\n",
    "    return doc.xpath(\"*//td//a/@href\")"
   ]
  },
  {
   "cell_type": "code",
   "execution_count": 29,
   "metadata": {},
   "outputs": [],
   "source": [
    "def crawl_plan_list():\n",
    "    return ['http://www.npc.gov.cn/wxzl/gongbao/2000-12/26/content_5001764.htm', #八五\n",
    "            'http://www.npc.gov.cn/wxzl/gongbao/2000-12/28/content_5002538.htm',\n",
    "            'http://www.npc.gov.cn/wxzl/gongbao/2001-01/02/content_5003506.htm',\n",
    "            'http://www.npc.gov.cn/wxzl/gongbao/2001-03/19/content_5134505.htm',\n",
    "            'http://www.gov.cn/ztzl/2006-03/16/content_228841.htm',\n",
    "            'http://www.gov.cn/2011lh/content_1825838.htm',\n",
    "            'http://politics.people.com.cn/n/2015/1103/c1001-27772701-2.html', #十三五\n",
    "            ]"
   ]
  },
  {
   "cell_type": "code",
   "execution_count": 30,
   "metadata": {},
   "outputs": [],
   "source": [
    "urls = crawl_report_list() + crawl_plan_list()"
   ]
  },
  {
   "cell_type": "code",
   "execution_count": 40,
   "metadata": {},
   "outputs": [],
   "source": [
    "import pyce3\n",
    "\n",
    "for url in urls:\n",
    "    enc, t, title, text, next_url = pyce3.parse(url, get(url))\n",
    "    text = text.strip()\n",
    "    title = title.strip()\n",
    "    if len(text) > 0 and len(title) > 0:\n",
    "        open(data_dir()+\"/%s.txt\"%title, \"w\").write(text)"
   ]
  },
  {
   "cell_type": "code",
   "execution_count": 41,
   "metadata": {},
   "outputs": [],
   "source": [
    "import glob\n",
    "files = glob.glob(data_dir() + \"/*.txt\")"
   ]
  },
  {
   "cell_type": "code",
   "execution_count": 42,
   "metadata": {},
   "outputs": [
    {
     "data": {
      "text/plain": [
       "['./data/1996年国务院政府工作报告.txt',\n",
       " './data/1981年国务院政府工作报告.txt',\n",
       " './data/关于一九五八年度国民经济计划草案的报告.txt',\n",
       " './data/1985年国务院政府工作报告.txt',\n",
       " './data/1992年国务院政府工作报告.txt',\n",
       " './data/1975年国务院政府工作报告.txt',\n",
       " './data/中华人民共和国国民经济和社会发展第十个五年计划纲要_中国人大网中华人民共和国国民经济和社会发展第十个五年计划纲要.txt',\n",
       " './data/国民经济和社会发展第十二个五年规划纲要(全文).txt',\n",
       " './data/1982年国务院政府工作报告.txt',\n",
       " './data/1995年国务院政府工作报告.txt',\n",
       " './data/1991年国务院政府工作报告.txt',\n",
       " './data/2009年国务院政府工作报告.txt',\n",
       " './data/1986年国务院政府工作报告.txt',\n",
       " './data/中华人民共和国国民经济和社会发展“九五”计划和2010年远景目标纲要_中国人大网中华人民共和国国民经济和社会发展“九五”计划和2010年远景目标纲要.txt',\n",
       " './data/2003年国务院政府工作报告.txt',\n",
       " './data/2007年国务院政府工作报告.txt',\n",
       " './data/温家宝所作政府工作报告（十一届人大三次会议）.txt',\n",
       " './data/1988年国务院政府工作报告.txt',\n",
       " './data/1978年国务院政府工作报告.txt',\n",
       " './data/1956年国务院政府工作报告.txt',\n",
       " './data/1964年国务院政府工作报告（摘要）.txt',\n",
       " './data/1955年国务院政府工作报告.txt',\n",
       " './data/李克强作政府工作报告（文字实录）.txt',\n",
       " './data/政府工作报告（全文）.txt',\n",
       " './data/1998年国务院政府工作报告.txt',\n",
       " './data/2000年国务院政府工作报告.txt',\n",
       " './data/2013年国务院政府工作报告.txt',\n",
       " './data/2004年国务院政府工作报告.txt',\n",
       " './data/1954年国务院政府工作报告.txt',\n",
       " './data/2005年国务院政府工作报告.txt',\n",
       " './data/2012年国务院政府工作报告.txt',\n",
       " './data/1999年国务院政府工作报告.txt',\n",
       " './data/2001年国务院政府工作报告.txt',\n",
       " './data/1989年国务院政府工作报告.txt',\n",
       " './data/2006年国务院政府工作报告.txt',\n",
       " './data/2002年国务院政府工作报告.txt',\n",
       " './data/中共中央关于制定十三五年规划的建议（全文）.txt',\n",
       " './data/中华人民共和国国民经济和社会发展十年规划和第八个五年计划纲要_中国人大网中华人民共和国国民经济和社会发展十年规划和第八个五年计划纲要.txt',\n",
       " './data/1957年国务院政府工作报告.txt',\n",
       " './data/1979年国务院政府工作报告.txt',\n",
       " './data/1959年国务院政府工作报告.txt',\n",
       " './data/1960年国务院政府工作报告.txt',\n",
       " './data/1987年国务院政府工作报告.txt',\n",
       " './data/1990年国务院政府工作报告.txt',\n",
       " './data/中华人民共和国国民经济和社会发展第七个五年计划（摘要）_中国人大网中华人民共和国国民经济和社会发展第七个五年计划（摘要）.txt',\n",
       " './data/2008年国务院政府工作报告.txt',\n",
       " './data/1994年国务院政府工作报告.txt',\n",
       " './data/1983年国务院政府工作报告.txt',\n",
       " './data/温家宝在十一届人大四次会议上所作政府工作报告.txt',\n",
       " './data/1993年国务院政府工作报告.txt',\n",
       " './data/1984年国务院政府工作报告.txt',\n",
       " './data/1980年国务院政府工作报告.txt',\n",
       " './data/1997年国务院政府工作报告.txt']"
      ]
     },
     "execution_count": 42,
     "metadata": {},
     "output_type": "execute_result"
    }
   ],
   "source": [
    "files"
   ]
  },
  {
   "cell_type": "code",
   "execution_count": null,
   "metadata": {},
   "outputs": [],
   "source": []
  }
 ],
 "metadata": {
  "kernelspec": {
   "display_name": "Python 3",
   "language": "python",
   "name": "python3"
  },
  "language_info": {
   "codemirror_mode": {
    "name": "ipython",
    "version": 3
   },
   "file_extension": ".py",
   "mimetype": "text/x-python",
   "name": "python",
   "nbconvert_exporter": "python",
   "pygments_lexer": "ipython3",
   "version": "3.7.1"
  }
 },
 "nbformat": 4,
 "nbformat_minor": 2
}
