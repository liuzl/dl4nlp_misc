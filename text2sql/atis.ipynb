{
 "cells": [
  {
   "cell_type": "code",
   "execution_count": 1,
   "metadata": {},
   "outputs": [],
   "source": [
    "import json"
   ]
  },
  {
   "cell_type": "code",
   "execution_count": 2,
   "metadata": {},
   "outputs": [],
   "source": [
    "f = \"/Users/hwang/text2sql-data/data/atis.json\""
   ]
  },
  {
   "cell_type": "code",
   "execution_count": 6,
   "metadata": {},
   "outputs": [],
   "source": [
    "data = json.load(open(f))"
   ]
  },
  {
   "cell_type": "code",
   "execution_count": 8,
   "metadata": {},
   "outputs": [
    {
     "data": {
      "text/plain": [
       "947"
      ]
     },
     "execution_count": 8,
     "metadata": {},
     "output_type": "execute_result"
    }
   ],
   "source": [
    "len(data)"
   ]
  },
  {
   "cell_type": "code",
   "execution_count": 10,
   "metadata": {},
   "outputs": [
    {
     "data": {
      "text/plain": [
       "dict_keys(['comments', 'old-name', 'query-split', 'sentences', 'sql', 'variables'])"
      ]
     },
     "execution_count": 10,
     "metadata": {},
     "output_type": "execute_result"
    }
   ],
   "source": [
    "data[0].keys()"
   ]
  },
  {
   "cell_type": "code",
   "execution_count": 12,
   "metadata": {},
   "outputs": [
    {
     "data": {
      "text/plain": [
       "['list all the flights that arrive at airport_code0 from various cities',\n",
       " 'what flights from any city land at airport_code0',\n",
       " 'show me the flights into airport_code0',\n",
       " 'show me the flights arriving at airport_code0',\n",
       " 'list all the flights that arrive at airport_code0',\n",
       " 'list all the arriving flights at airport_code0',\n",
       " 'what flights land at airport_code0',\n",
       " 'show me the flights to airport_code0',\n",
       " 'list all the landings at airport_code0',\n",
       " 'show me the flights into airport_code0',\n",
       " 'list all the landings at airport_code0',\n",
       " 'list all flights arriving at airport_code0',\n",
       " 'show me the flights arriving at airport_code0',\n",
       " 'list all the flights that fly into airport_code0',\n",
       " 'list all the flights that arrive at airport_code0 airport',\n",
       " 'show me all flights arriving at airport_code0 from other airports',\n",
       " 'show me the flights from all airports to airport_code0',\n",
       " 'show me the flights arriving at airport_code0 from all other airports',\n",
       " 'show me flights from all airports to airport_code0',\n",
       " 'show me the flights arriving at airport_code0 from other airports',\n",
       " 'show me the flights to airport_code0 from all other airports']"
      ]
     },
     "execution_count": 12,
     "metadata": {},
     "output_type": "execute_result"
    }
   ],
   "source": [
    "[x['text'] for x in data[0]['sentences']]"
   ]
  },
  {
   "cell_type": "code",
   "execution_count": 19,
   "metadata": {},
   "outputs": [
    {
     "data": {
      "text/plain": [
       "[{'text': 'list all the flights that arrive at airport_code0 from various cities',\n",
       "  'question-split': 'train',\n",
       "  'variables': {'airport_code0': 'MKE'}},\n",
       " {'text': 'what flights from any city land at airport_code0',\n",
       "  'question-split': 'train',\n",
       "  'variables': {'airport_code0': 'MKE'}},\n",
       " {'text': 'show me the flights into airport_code0',\n",
       "  'question-split': 'train',\n",
       "  'variables': {'airport_code0': 'DAL'}},\n",
       " {'text': 'show me the flights arriving at airport_code0',\n",
       "  'question-split': 'train',\n",
       "  'variables': {'airport_code0': 'DAL'}},\n",
       " {'text': 'list all the flights that arrive at airport_code0',\n",
       "  'question-split': 'train',\n",
       "  'variables': {'airport_code0': 'MKE'}},\n",
       " {'text': 'list all the arriving flights at airport_code0',\n",
       "  'question-split': 'train',\n",
       "  'variables': {'airport_code0': 'MKE'}},\n",
       " {'text': 'what flights land at airport_code0',\n",
       "  'question-split': 'train',\n",
       "  'variables': {'airport_code0': 'MKE'}},\n",
       " {'text': 'show me the flights to airport_code0',\n",
       "  'question-split': 'train',\n",
       "  'variables': {'airport_code0': 'DAL'}},\n",
       " {'text': 'list all the landings at airport_code0',\n",
       "  'question-split': 'train',\n",
       "  'variables': {'airport_code0': 'MKE'}},\n",
       " {'text': 'show me the flights into airport_code0',\n",
       "  'question-split': 'train',\n",
       "  'variables': {'airport_code0': 'DAL'}},\n",
       " {'text': 'list all the landings at airport_code0',\n",
       "  'question-split': 'train',\n",
       "  'variables': {'airport_code0': 'MKE'}},\n",
       " {'text': 'list all flights arriving at airport_code0',\n",
       "  'question-split': 'train',\n",
       "  'variables': {'airport_code0': 'MKE'}},\n",
       " {'text': 'show me the flights arriving at airport_code0',\n",
       "  'question-split': 'train',\n",
       "  'variables': {'airport_code0': 'DAL'}},\n",
       " {'text': 'list all the flights that fly into airport_code0',\n",
       "  'question-split': 'dev',\n",
       "  'variables': {'airport_code0': 'MKE'}},\n",
       " {'text': 'list all the flights that arrive at airport_code0 airport',\n",
       "  'question-split': 'dev',\n",
       "  'variables': {'airport_code0': 'MKE'}},\n",
       " {'text': 'show me all flights arriving at airport_code0 from other airports',\n",
       "  'question-split': 'train',\n",
       "  'variables': {'airport_code0': 'DAL'}},\n",
       " {'text': 'show me the flights from all airports to airport_code0',\n",
       "  'question-split': 'train',\n",
       "  'variables': {'airport_code0': 'DAL'}},\n",
       " {'text': 'show me the flights arriving at airport_code0 from all other airports',\n",
       "  'question-split': 'train',\n",
       "  'variables': {'airport_code0': 'DAL'}},\n",
       " {'text': 'show me flights from all airports to airport_code0',\n",
       "  'question-split': 'train',\n",
       "  'variables': {'airport_code0': 'DAL'}},\n",
       " {'text': 'show me the flights arriving at airport_code0 from other airports',\n",
       "  'question-split': 'train',\n",
       "  'variables': {'airport_code0': 'DAL'}},\n",
       " {'text': 'show me the flights to airport_code0 from all other airports',\n",
       "  'question-split': 'dev',\n",
       "  'variables': {'airport_code0': 'DAL'}}]"
      ]
     },
     "execution_count": 19,
     "metadata": {},
     "output_type": "execute_result"
    }
   ],
   "source": [
    "data[0]['sentences']"
   ]
  },
  {
   "cell_type": "code",
   "execution_count": 21,
   "metadata": {},
   "outputs": [
    {
     "name": "stdout",
     "output_type": "stream",
     "text": [
      "SELECT DISTINCT FLIGHTalias0.FLIGHT_ID FROM AIRPORT AS AIRPORTalias0 , AIRPORT_SERVICE AS AIRPORT_SERVICEalias0 , CITY AS CITYalias0 , FLIGHT AS FLIGHTalias0 WHERE AIRPORTalias0.AIRPORT_CODE = \"airport_code0\" AND CITYalias0.CITY_CODE = AIRPORT_SERVICEalias0.CITY_CODE AND FLIGHTalias0.FROM_AIRPORT = AIRPORT_SERVICEalias0.AIRPORT_CODE AND FLIGHTalias0.TO_AIRPORT = AIRPORTalias0.AIRPORT_CODE ;\n",
      "\n",
      "SELECT DISTINCT FLIGHTalias0.FLIGHT_ID FROM AIRPORT AS AIRPORTalias0 , FLIGHT AS FLIGHTalias0 WHERE AIRPORTalias0.AIRPORT_CODE = \"airport_code0\" AND FLIGHTalias0.TO_AIRPORT = AIRPORTalias0.AIRPORT_CODE ;\n",
      "\n",
      "SELECT DISTINCT FLIGHTalias0.FLIGHT_ID FROM AIRPORT AS AIRPORTalias0 , AIRPORT AS AIRPORTalias1 , FLIGHT AS FLIGHTalias0 WHERE AIRPORTalias1.AIRPORT_CODE = \"airport_code0\" AND FLIGHTalias0.FROM_AIRPORT = AIRPORTalias0.AIRPORT_CODE AND FLIGHTalias0.TO_AIRPORT = AIRPORTalias1.AIRPORT_CODE ;\n"
     ]
    }
   ],
   "source": [
    "print(\"\\n\\n\".join(data[0]['sql']))"
   ]
  },
  {
   "cell_type": "code",
   "execution_count": null,
   "metadata": {},
   "outputs": [],
   "source": []
  }
 ],
 "metadata": {
  "kernelspec": {
   "display_name": "Python 3",
   "language": "python",
   "name": "python3"
  },
  "language_info": {
   "codemirror_mode": {
    "name": "ipython",
    "version": 3
   },
   "file_extension": ".py",
   "mimetype": "text/x-python",
   "name": "python",
   "nbconvert_exporter": "python",
   "pygments_lexer": "ipython3",
   "version": "3.7.1"
  }
 },
 "nbformat": 4,
 "nbformat_minor": 2
}
