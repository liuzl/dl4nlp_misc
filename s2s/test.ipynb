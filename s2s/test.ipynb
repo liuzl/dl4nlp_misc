{
 "cells": [
  {
   "cell_type": "code",
   "execution_count": 1,
   "metadata": {},
   "outputs": [
    {
     "name": "stderr",
     "output_type": "stream",
     "text": [
      "/Users/hwang/anaconda3/lib/python3.7/site-packages/torch/nn/_reduction.py:46: UserWarning: size_average and reduce args will be deprecated, please use reduction='mean' instead.\n",
      "  warnings.warn(warning.format(ret))\n"
     ]
    }
   ],
   "source": [
    "from seq2seq.evaluator import Predictor\n",
    "from seq2seq.util.checkpoint import Checkpoint"
   ]
  },
  {
   "cell_type": "code",
   "execution_count": 2,
   "metadata": {},
   "outputs": [],
   "source": [
    "checkpoint_path = \"./experiment/checkpoints/2019_07_14_17_48_06/\"\n",
    "checkpoint = Checkpoint.load(checkpoint_path)\n",
    "seq2seq = checkpoint.model\n",
    "input_vocab = checkpoint.input_vocab\n",
    "output_vocab = checkpoint.output_vocab\n",
    "predictor = Predictor(seq2seq, input_vocab, output_vocab)"
   ]
  },
  {
   "cell_type": "code",
   "execution_count": null,
   "metadata": {},
   "outputs": [
    {
     "name": "stdout",
     "output_type": "stream",
     "text": [
      "Type in a source sequence:three\n"
     ]
    },
    {
     "name": "stderr",
     "output_type": "stream",
     "text": [
      "/Users/hwang/anaconda3/lib/python3.7/site-packages/torch/nn/functional.py:1374: UserWarning: nn.functional.tanh is deprecated. Use torch.tanh instead.\n",
      "  warnings.warn(\"nn.functional.tanh is deprecated. Use torch.tanh instead.\")\n"
     ]
    },
    {
     "name": "stdout",
     "output_type": "stream",
     "text": [
      "['3', '<eos>']\n",
      "Type in a source sequence:three thousand three hundred fifty three\n",
      "['3', '3', '5', '3', '<eos>']\n",
      "Type in a source sequence:one\n",
      "['1', '<eos>']\n",
      "Type in a source sequence:ten\n",
      "['1', '0', '<eos>']\n",
      "Type in a source sequence:ten thousand\n",
      "['1', '0', '0', '0', '0', '<eos>']\n",
      "Type in a source sequence:one thousand\n",
      "['1', '0', '0', '0', '<eos>']\n",
      "Type in a source sequence:thousand\n",
      "['0', '0', '0', '<eos>']\n",
      "Type in a source sequence:hundred\n",
      "['0', '0', '0', '<eos>']\n",
      "Type in a source sequence:one hundred\n",
      "['1', '0', '0', '<eos>']\n",
      "Type in a source sequence:one thousand\n",
      "['1', '0', '0', '0', '<eos>']\n"
     ]
    }
   ],
   "source": [
    "while True:\n",
    "    seq_str = input(\"Type in a source sequence:\")\n",
    "    seq = seq_str.strip().split()\n",
    "    print(predictor.predict(seq))"
   ]
  },
  {
   "cell_type": "code",
   "execution_count": null,
   "metadata": {},
   "outputs": [],
   "source": []
  }
 ],
 "metadata": {
  "kernelspec": {
   "display_name": "Python 3",
   "language": "python",
   "name": "python3"
  },
  "language_info": {
   "codemirror_mode": {
    "name": "ipython",
    "version": 3
   },
   "file_extension": ".py",
   "mimetype": "text/x-python",
   "name": "python",
   "nbconvert_exporter": "python",
   "pygments_lexer": "ipython3",
   "version": "3.7.1"
  }
 },
 "nbformat": 4,
 "nbformat_minor": 2
}
