{
 "cells": [
  {
   "cell_type": "code",
   "execution_count": 1,
   "metadata": {},
   "outputs": [
    {
     "name": "stderr",
     "output_type": "stream",
     "text": [
      "/Users/hwang/anaconda3/lib/python3.7/site-packages/torch/nn/_reduction.py:46: UserWarning: size_average and reduce args will be deprecated, please use reduction='mean' instead.\n",
      "  warnings.warn(warning.format(ret))\n"
     ]
    }
   ],
   "source": [
    "from seq2seq.evaluator import Predictor\n",
    "from seq2seq.util.checkpoint import Checkpoint"
   ]
  },
  {
   "cell_type": "code",
   "execution_count": 2,
   "metadata": {},
   "outputs": [],
   "source": [
    "checkpoint_path = \"./experiment/checkpoints/2019_07_14_17_48_06/\"\n",
    "checkpoint = Checkpoint.load(checkpoint_path)\n",
    "seq2seq = checkpoint.model\n",
    "input_vocab = checkpoint.input_vocab\n",
    "output_vocab = checkpoint.output_vocab\n",
    "predictor = Predictor(seq2seq, input_vocab, output_vocab)"
   ]
  },
  {
   "cell_type": "code",
   "execution_count": 6,
   "metadata": {},
   "outputs": [],
   "source": [
    "def test():\n",
    "    while True:\n",
    "        seq_str = input(\"Type in a source sequence:\")\n",
    "        seq = seq_str.strip().split()\n",
    "        print(predictor.predict(seq))"
   ]
  },
  {
   "cell_type": "code",
   "execution_count": 7,
   "metadata": {},
   "outputs": [],
   "source": [
    "from collections import defaultdict"
   ]
  },
  {
   "cell_type": "code",
   "execution_count": 8,
   "metadata": {},
   "outputs": [],
   "source": [
    "words = defaultdict(int)"
   ]
  },
  {
   "cell_type": "code",
   "execution_count": 12,
   "metadata": {},
   "outputs": [],
   "source": [
    "for line in open(\"data.txt\"):\n",
    "    for w in line.split(\"\\t\")[0].split(\" \"):\n",
    "        words[w] += 1"
   ]
  },
  {
   "cell_type": "code",
   "execution_count": 14,
   "metadata": {},
   "outputs": [
    {
     "data": {
      "text/plain": [
       "defaultdict(int,\n",
       "            {'zero': 1,\n",
       "             'one': 380001,\n",
       "             'two': 380000,\n",
       "             'three': 380000,\n",
       "             'four': 380000,\n",
       "             'five': 380000,\n",
       "             'six': 380000,\n",
       "             'seven': 380000,\n",
       "             'eight': 380000,\n",
       "             'nine': 380000,\n",
       "             'ten': 20000,\n",
       "             'eleven': 20000,\n",
       "             'twelve': 20000,\n",
       "             'thirteen': 20000,\n",
       "             'fourteen': 20000,\n",
       "             'fifteen': 20000,\n",
       "             'sixteen': 20000,\n",
       "             'seventeen': 20000,\n",
       "             'eighteen': 20000,\n",
       "             'nineteen': 20000,\n",
       "             'twenty': 200000,\n",
       "             'thirty': 200000,\n",
       "             'forty': 200000,\n",
       "             'fifty': 200000,\n",
       "             'sixty': 200000,\n",
       "             'seventy': 200000,\n",
       "             'eighty': 200000,\n",
       "             'ninety': 200000,\n",
       "             'hundred': 1800000,\n",
       "             'thousand': 999000,\n",
       "             'million': 1})"
      ]
     },
     "execution_count": 14,
     "metadata": {},
     "output_type": "execute_result"
    }
   ],
   "source": [
    "words"
   ]
  },
  {
   "cell_type": "code",
   "execution_count": 16,
   "metadata": {},
   "outputs": [
    {
     "data": {
      "text/plain": [
       "['1', '0', '0', '1', '0', '1', '<eos>']"
      ]
     },
     "execution_count": 16,
     "metadata": {},
     "output_type": "execute_result"
    }
   ],
   "source": [
    "predictor.predict(\"one hundred thousand one hundred one\".split(\" \"))"
   ]
  },
  {
   "cell_type": "code",
   "execution_count": null,
   "metadata": {},
   "outputs": [],
   "source": []
  }
 ],
 "metadata": {
  "kernelspec": {
   "display_name": "Python 3",
   "language": "python",
   "name": "python3"
  },
  "language_info": {
   "codemirror_mode": {
    "name": "ipython",
    "version": 3
   },
   "file_extension": ".py",
   "mimetype": "text/x-python",
   "name": "python",
   "nbconvert_exporter": "python",
   "pygments_lexer": "ipython3",
   "version": "3.7.1"
  }
 },
 "nbformat": 4,
 "nbformat_minor": 2
}
